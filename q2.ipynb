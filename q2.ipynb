{
 "cells": [
  {
   "cell_type": "code",
   "execution_count": 29,
   "metadata": {},
   "outputs": [],
   "source": [
    "import numpy as np\n",
    "import matplotlib.pyplot as plt\n",
    "from sklearn.cluster import KMeans"
   ]
  },
  {
   "cell_type": "code",
   "execution_count": 5,
   "metadata": {},
   "outputs": [],
   "source": [
    "# read csv\n",
    "file_path = \"2_YeastCycle.csv\"\n",
    "data = np.genfromtxt(file_path, delimiter=\",\")"
   ]
  },
  {
   "cell_type": "code",
   "execution_count": 28,
   "metadata": {},
   "outputs": [
    {
     "name": "stdout",
     "output_type": "stream",
     "text": [
      "U: (678, 678)\n",
      "S: (12, 12)\n",
      "Vt: (12, 12)\n",
      "F: (12, 12)\n",
      "First 2 rows of F: [[ -5.04364799 -19.30436682 -17.00822924   1.30074591  11.72791997\n",
      "   13.53743053  -6.07965326 -12.35554278  -7.15915187   6.18387842\n",
      "   10.25206923   4.98817392]\n",
      " [-10.87058151  -7.45483727  10.33328024  13.67882688   6.85034916\n",
      "   -5.80003526  -8.40851796   3.06883544   8.90183657   7.69342273\n",
      "    0.94257836  -9.88651709]]\n"
     ]
    }
   ],
   "source": [
    "# singular value decomp\n",
    "svd = np.linalg.svd(data)\n",
    "\n",
    "# obtain svd matrices\n",
    "U = svd[0]\n",
    "S = svd[1]\n",
    "S = S * np.identity(S.shape[0])\n",
    "Vt = svd[2]\n",
    "\n",
    "# (i) plot first two rows of F = matmul(Σ, V_t)\n",
    "F = np.matmul(S, Vt)\n",
    "\n",
    "# print(f\"Data: {data}\")\n",
    "print(f\"U: {U.shape}\")\n",
    "print(f\"S: {S.shape}\")\n",
    "# print(f\"S: {S}\")\n",
    "print(f\"Vt: {Vt.shape}\")\n",
    "# print(f\"Vt: {Vt}\")\n",
    "\n",
    "print(f\"F: {F.shape}\")\n",
    "print(\"First 2 rows of F:\", F[:2])"
   ]
  },
  {
   "cell_type": "code",
   "execution_count": 40,
   "metadata": {},
   "outputs": [
    {
     "name": "stdout",
     "output_type": "stream",
     "text": [
      "3: -2148.2997153988304\n",
      "4: -1922.2426032597025\n",
      "5: -1775.6882500247154\n",
      "6: -1624.7965192242766\n"
     ]
    }
   ],
   "source": [
    "for n_clusters in [3, 4, 5, 6]:\n",
    "\tkmeans = KMeans(n_clusters=n_clusters).fit(data)\n",
    "\tscore = kmeans.score(data)\n",
    "\tprint(f\"{n_clusters}: {score}\")"
   ]
  },
  {
   "cell_type": "code",
   "execution_count": 43,
   "metadata": {},
   "outputs": [
    {
     "name": "stdout",
     "output_type": "stream",
     "text": [
      "3: -1605.6031183333337\n",
      "4: -1241.4328583333333\n",
      "5: -1011.0426250000002\n",
      "6: -808.2681250000003\n"
     ]
    }
   ],
   "source": [
    "for n_clusters in [3, 4, 5, 6]:\n",
    "\tkmeans = KMeans(n_clusters=n_clusters).fit(data.T)\n",
    "\tscore = kmeans.score(data.T)\n",
    "\tprint(f\"{n_clusters}: {score}\")"
   ]
  },
  {
   "cell_type": "code",
   "execution_count": null,
   "metadata": {},
   "outputs": [],
   "source": []
  }
 ],
 "metadata": {
  "interpreter": {
   "hash": "9be1eec2b1da80ac1fa49f4c701ef6438149f84fa437577912d3627bf1fcefe5"
  },
  "kernelspec": {
   "display_name": "Python 3.9.12 ('base')",
   "language": "python",
   "name": "python3"
  },
  "language_info": {
   "codemirror_mode": {
    "name": "ipython",
    "version": 3
   },
   "file_extension": ".py",
   "mimetype": "text/x-python",
   "name": "python",
   "nbconvert_exporter": "python",
   "pygments_lexer": "ipython3",
   "version": "3.9.12"
  },
  "orig_nbformat": 4
 },
 "nbformat": 4,
 "nbformat_minor": 2
}
