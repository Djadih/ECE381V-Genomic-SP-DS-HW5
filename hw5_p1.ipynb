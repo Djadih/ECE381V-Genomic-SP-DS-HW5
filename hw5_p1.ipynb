{
  "nbformat": 4,
  "nbformat_minor": 0,
  "metadata": {
    "colab": {
      "name": "genomic_hw5.ipynb",
      "provenance": [],
      "authorship_tag": "ABX9TyPl8ZAbxbEq0S0vugSwz3U6",
      "include_colab_link": true
    },
    "kernelspec": {
      "name": "python3",
      "display_name": "Python 3"
    },
    "language_info": {
      "name": "python"
    }
  },
  "cells": [
    {
      "cell_type": "markdown",
      "metadata": {
        "id": "view-in-github",
        "colab_type": "text"
      },
      "source": [
        "<a href=\"https://colab.research.google.com/github/Djadih/ECE381V-Genomic-SP-DS-HW5/blob/main/hw5_p1.ipynb\" target=\"_parent\"><img src=\"https://colab.research.google.com/assets/colab-badge.svg\" alt=\"Open In Colab\"/></a>"
      ]
    },
    {
      "cell_type": "code",
      "execution_count": null,
      "metadata": {
        "colab": {
          "base_uri": "https://localhost:8080/"
        },
        "id": "6AATcCYEvMMh",
        "outputId": "65193f16-80f4-498a-a661-81407539c6b5"
      },
      "outputs": [
        {
          "output_type": "stream",
          "name": "stdout",
          "text": [
            "--2022-04-20 20:53:47--  http://www.ece.utexas.edu/~hvikalo/ee381v/SNP_Fragment_Matrix.txt\n",
            "Resolving www.ece.utexas.edu (www.ece.utexas.edu)... 128.83.21.174\n",
            "Connecting to www.ece.utexas.edu (www.ece.utexas.edu)|128.83.21.174|:80... connected.\n",
            "HTTP request sent, awaiting response... 301 Moved Permanently\n",
            "Location: http://users.ece.utexas.edu/~hvikalo/ee381v/SNP_Fragment_Matrix.txt [following]\n",
            "--2022-04-20 20:53:47--  http://users.ece.utexas.edu/~hvikalo/ee381v/SNP_Fragment_Matrix.txt\n",
            "Resolving users.ece.utexas.edu (users.ece.utexas.edu)... 146.6.225.99\n",
            "Connecting to users.ece.utexas.edu (users.ece.utexas.edu)|146.6.225.99|:80... connected.\n",
            "HTTP request sent, awaiting response... 200 OK\n",
            "Length: 15600 (15K)\n",
            "Saving to: ‘SNP_Fragment_Matrix.txt.1’\n",
            "\n",
            "SNP_Fragment_Matrix 100%[===================>]  15.23K  --.-KB/s    in 0.04s   \n",
            "\n",
            "2022-04-20 20:53:47 (420 KB/s) - ‘SNP_Fragment_Matrix.txt.1’ saved [15600/15600]\n",
            "\n",
            "--2022-04-20 20:53:47--  http://www.ece.utexas.edu/~hvikalo/ee381v/YeastCycle.xls\n",
            "Resolving www.ece.utexas.edu (www.ece.utexas.edu)... 128.83.21.174\n",
            "Connecting to www.ece.utexas.edu (www.ece.utexas.edu)|128.83.21.174|:80... connected.\n",
            "HTTP request sent, awaiting response... 301 Moved Permanently\n",
            "Location: http://users.ece.utexas.edu/~hvikalo/ee381v/YeastCycle.xls [following]\n",
            "--2022-04-20 20:53:47--  http://users.ece.utexas.edu/~hvikalo/ee381v/YeastCycle.xls\n",
            "Resolving users.ece.utexas.edu (users.ece.utexas.edu)... 146.6.225.99\n",
            "Connecting to users.ece.utexas.edu (users.ece.utexas.edu)|146.6.225.99|:80... connected.\n",
            "HTTP request sent, awaiting response... 200 OK\n",
            "Length: 101888 (100K)\n",
            "Saving to: ‘YeastCycle.xls’\n",
            "\n",
            "YeastCycle.xls      100%[===================>]  99.50K  --.-KB/s    in 0.1s    \n",
            "\n",
            "2022-04-20 20:53:47 (914 KB/s) - ‘YeastCycle.xls’ saved [101888/101888]\n",
            "\n"
          ]
        }
      ],
      "source": [
        "!wget http://www.ece.utexas.edu/~hvikalo/ee381v/SNP_Fragment_Matrix.txt\n",
        "!wget http://www.ece.utexas.edu/~hvikalo/ee381v/YeastCycle.xls"
      ]
    },
    {
      "cell_type": "code",
      "source": [
        "import numpy as np\n",
        "np.set_printoptions(linewidth=np.inf)"
      ],
      "metadata": {
        "id": "y8SohnjRyJHu"
      },
      "execution_count": null,
      "outputs": []
    },
    {
      "cell_type": "code",
      "source": [
        "f = open(\"/content/SNP_Fragment_Matrix.txt\",'r')\n",
        "\n",
        "hap_1 = {}\n",
        "hap_2 = {}\n",
        "R = np.zeros((80,194))\n",
        "for line_num,line in enumerate(f):\n",
        "  for idx, chr in enumerate(line.strip()):\n",
        "    if chr != \"-\":\n",
        "      if idx not in hap_1:\n",
        "        hap_1[idx] = chr\n",
        "        R[line_num,idx] = 1\n",
        "      if idx in hap_1:\n",
        "        if hap_1[idx] == chr:\n",
        "          R[line_num,idx] = 1\n",
        "        else:\n",
        "          R[line_num,idx] = -1\n",
        "          hap_2[idx] = chr"
      ],
      "metadata": {
        "id": "QnBj9iTJvPYG"
      },
      "execution_count": null,
      "outputs": []
    },
    {
      "cell_type": "code",
      "source": [
        "hap_2"
      ],
      "metadata": {
        "id": "sFaAT2mGe6qP"
      },
      "execution_count": null,
      "outputs": []
    },
    {
      "cell_type": "code",
      "source": [
        "mask = R!=0"
      ],
      "metadata": {
        "id": "YzsS3hMe9Puv"
      },
      "execution_count": null,
      "outputs": []
    },
    {
      "cell_type": "code",
      "source": [
        "R"
      ],
      "metadata": {
        "id": "vyr03G9lXqCS"
      },
      "execution_count": null,
      "outputs": []
    },
    {
      "cell_type": "code",
      "source": [
        "mask = mask.astype(np.int32)\n",
        "mask"
      ],
      "metadata": {
        "id": "cMyvZoc69S7T"
      },
      "execution_count": null,
      "outputs": []
    },
    {
      "cell_type": "code",
      "source": [
        "(mask * R) == R"
      ],
      "metadata": {
        "id": "m0Twsv3d24pH"
      },
      "execution_count": null,
      "outputs": []
    },
    {
      "cell_type": "code",
      "source": [
        "np.set_printoptions(linewidth=np.inf)\n",
        "for idx, vec in enumerate(R):\n",
        "  print(idx, np.count_nonzero(vec==-1))\n"
      ],
      "metadata": {
        "id": "bJ_7VxG-yIM8"
      },
      "execution_count": null,
      "outputs": []
    },
    {
      "cell_type": "code",
      "source": [
        "def f(mask,R,U,V):\n",
        "  return np.linalg.norm(mask * (R - U @ V.T))\n",
        "\n",
        "def argmin_F_U(mask, R, U, V):\n",
        "  for row in range(U.shape[0]):\n",
        "    U_copy = U.copy()\n",
        "    U_copy[row] = U_copy[row] ^ 1\n",
        "    f_orig = f(mask,R,U,V)\n",
        "    f_mod = f(mask,R,U_copy,V)\n",
        "    if f_mod < f_orig:\n",
        "      U = U_copy\n",
        "  return U\n"
      ],
      "metadata": {
        "id": "3QUmF1A22LEU"
      },
      "execution_count": null,
      "outputs": []
    },
    {
      "cell_type": "code",
      "source": [
        "alpha = 0.02\n",
        "n = 80\n",
        "m = 194\n",
        "k = 2\n",
        "#init U and V\n",
        "U = np.random.randint(0,2,size = (n,1))\n",
        "U = np.concatenate([U,np.bitwise_xor(U,1)],axis=1)\n",
        "\n",
        "V = (np.random.randint(0,2,size = (m,1))*2-1).astype(np.int32)\n",
        "V = np.concatenate([V,-V],axis=1)\n",
        "\n",
        "for iteration in range(500):\n",
        "  d_f = -2 * (mask * (R - U @ V.T)).T @ U\n",
        "  V = V - alpha * d_f\n",
        "  U = argmin_F_U(mask, R, U, V)\n"
      ],
      "metadata": {
        "id": "bwrXDTIbvprC"
      },
      "execution_count": null,
      "outputs": []
    },
    {
      "cell_type": "code",
      "source": [
        "U"
      ],
      "metadata": {
        "id": "GNwS3qmu2DLZ"
      },
      "execution_count": null,
      "outputs": []
    },
    {
      "cell_type": "code",
      "source": [
        "V"
      ],
      "metadata": {
        "id": "fLSFIbCVc_ry"
      },
      "execution_count": null,
      "outputs": []
    },
    {
      "cell_type": "code",
      "source": [
        "V_quant = np.rint(V)"
      ],
      "metadata": {
        "id": "CrrrNdFxZIeQ"
      },
      "execution_count": null,
      "outputs": []
    },
    {
      "cell_type": "code",
      "source": [
        "V_quant[0,1] = 1\n",
        "V_quant"
      ],
      "metadata": {
        "id": "hjXXSFgicPYd"
      },
      "execution_count": null,
      "outputs": []
    },
    {
      "cell_type": "code",
      "source": [
        "h1 = V_quant.T[0]\n",
        "h2 = V_quant.T[1]"
      ],
      "metadata": {
        "id": "PBJVR1u5idoD"
      },
      "execution_count": null,
      "outputs": []
    },
    {
      "cell_type": "code",
      "source": [
        "s = ''\n",
        "for i, j in enumerate(h2):\n",
        "  if(j==1):\n",
        "    s+=hap_1[i]\n",
        "  if(j==-1):\n",
        "    s+=hap_2[i]"
      ],
      "metadata": {
        "id": "AIsz4vyhc3-G"
      },
      "execution_count": null,
      "outputs": []
    },
    {
      "cell_type": "code",
      "source": [
        "s = ''\n",
        "for i in range(194):\n",
        "  s += h1[i]"
      ],
      "metadata": {
        "id": "5iHKp9z_iS_8"
      },
      "execution_count": null,
      "outputs": []
    },
    {
      "cell_type": "code",
      "source": [
        "s"
      ],
      "metadata": {
        "colab": {
          "base_uri": "https://localhost:8080/",
          "height": 35
        },
        "id": "Fz6KKoBhfBUq",
        "outputId": "a6d4aef7-6628-42f5-9639-05a76cdf893d"
      },
      "execution_count": null,
      "outputs": [
        {
          "output_type": "execute_result",
          "data": {
            "text/plain": [
              "'AGACTATCGGTATAAAGCCTCGTGAGATCCATCCGGACATCCGATGAGAAGGAGTTCAGCCTACCCTACACGAACGGCTCTTGCCACGCCTGGAGGTACTTTCGCGCCCCCAAATTACGATTGTCTTTGGAGACAGCCGGTTTCGCAGCTGCGAAAACGATCCGGTCGATGTCCGTAGGAAGGAAAAGCCCGAA'"
            ],
            "application/vnd.google.colaboratory.intrinsic+json": {
              "type": "string"
            }
          },
          "metadata": {},
          "execution_count": 228
        }
      ]
    },
    {
      "cell_type": "code",
      "source": [
        "def hd(row, h):\n",
        "  d = 0\n",
        "  for idx,i in enumerate(row):\n",
        "    if(i != 0):\n",
        "      if(i!=h[idx]):\n",
        "        d+=1\n",
        "  return d\n",
        "\n",
        "def MEC(R,h1,h2):\n",
        "  d = 0\n",
        "  for row in R:\n",
        "    d+=min(hd(row,h1),hd(row,h2))\n",
        "  return d"
      ],
      "metadata": {
        "id": "d7xkzF_cgEuM"
      },
      "execution_count": null,
      "outputs": []
    },
    {
      "cell_type": "code",
      "source": [
        "MEC(R,h1,h2)"
      ],
      "metadata": {
        "colab": {
          "base_uri": "https://localhost:8080/"
        },
        "id": "oELhONOvl4iV",
        "outputId": "4a66aa62-08e2-43fe-e083-0984d4158889"
      },
      "execution_count": null,
      "outputs": [
        {
          "output_type": "execute_result",
          "data": {
            "text/plain": [
              "195"
            ]
          },
          "metadata": {},
          "execution_count": 221
        }
      ]
    },
    {
      "cell_type": "code",
      "source": [
        ""
      ],
      "metadata": {
        "id": "-rUOFb7ZwYhu"
      },
      "execution_count": null,
      "outputs": []
    }
  ]
}